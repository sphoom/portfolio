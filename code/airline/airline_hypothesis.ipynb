{
 "cells": [
  {
   "cell_type": "markdown",
   "id": "2a878a55",
   "metadata": {},
   "source": [
    "**Airline Loyalty Program**\n",
    "Customer loyalty program data from Northern Lights Air (NLA), a fictitious airline based in Canada. In an effort to improve program enrollment, NLA ran a promotion between Feb - Apr 2018. Dataset includes loyalty program signups, enrollment and cancellation details, and additional customer information."
   ]
  },
  {
   "cell_type": "code",
   "execution_count": 1,
   "id": "81c69928-59c4-47ee-a801-58cbdc1cc22c",
   "metadata": {},
   "outputs": [],
   "source": [
    "import pandas as pd\n",
    "import numpy as np\n",
    "import matplotlib.pyplot as plt\n",
    "import seaborn as sns\n",
    "from scipy import stats\n",
    "from scipy.stats import skew\n",
    "import matplotlib.dates as mdates"
   ]
  },
  {
   "cell_type": "code",
   "execution_count": 2,
   "id": "3b847338",
   "metadata": {},
   "outputs": [],
   "source": [
    "sns.set_theme(style=\"whitegrid\", palette=\"tab10\")\n",
    "sns.set_context(\"notebook\", font_scale=1.1)\n",
    "plt.style.use('dark_background')"
   ]
  },
  {
   "cell_type": "code",
   "execution_count": 3,
   "id": "fc0749a0-1ad6-44ca-a649-2c6eafbf6ab8",
   "metadata": {},
   "outputs": [],
   "source": [
    "fligth_df  = pd.read_csv(r\"C:\\Users\\somph\\Documents\\data_project\\airline_royalty\\data_airline_loyalty\\Customer Flight Activity.csv\")\n",
    "royalty_df = pd.read_csv(r\"C:\\Users\\somph\\Documents\\data_project\\airline_royalty\\data_airline_loyalty\\Customer Loyalty History.csv\")\n",
    "calendar_df = pd.read_csv(r\"C:\\Users\\somph\\Documents\\data_project\\airline_royalty\\data_airline_loyalty\\Calendar.csv\")"
   ]
  },
  {
   "cell_type": "code",
   "execution_count": 4,
   "id": "63f2f4d3",
   "metadata": {},
   "outputs": [
    {
     "data": {
      "application/vnd.microsoft.datawrangler.viewer.v0+json": {
       "columns": [
        {
         "name": "index",
         "rawType": "int64",
         "type": "integer"
        },
        {
         "name": "Loyalty Number",
         "rawType": "int64",
         "type": "integer"
        },
        {
         "name": "Year",
         "rawType": "int64",
         "type": "integer"
        },
        {
         "name": "Month",
         "rawType": "int64",
         "type": "integer"
        },
        {
         "name": "Total Flights",
         "rawType": "int64",
         "type": "integer"
        },
        {
         "name": "Distance",
         "rawType": "int64",
         "type": "integer"
        },
        {
         "name": "Points Accumulated",
         "rawType": "float64",
         "type": "float"
        },
        {
         "name": "Points Redeemed",
         "rawType": "int64",
         "type": "integer"
        },
        {
         "name": "Dollar Cost Points Redeemed",
         "rawType": "int64",
         "type": "integer"
        }
       ],
       "conversionMethod": "pd.DataFrame",
       "ref": "25d37d78-0110-4286-90da-742c71b1f326",
       "rows": [
        [
         "0",
         "100590",
         "2018",
         "6",
         "12",
         "15276",
         "22914.0",
         "0",
         "0"
        ],
        [
         "1",
         "100590",
         "2018",
         "7",
         "12",
         "9168",
         "13752.0",
         "0",
         "0"
        ],
        [
         "2",
         "100590",
         "2018",
         "5",
         "4",
         "6504",
         "9756.0",
         "0",
         "0"
        ],
        [
         "3",
         "100590",
         "2018",
         "10",
         "0",
         "0",
         "0.0",
         "512",
         "92"
        ],
        [
         "4",
         "100590",
         "2018",
         "2",
         "0",
         "0",
         "0.0",
         "0",
         "0"
        ]
       ],
       "shape": {
        "columns": 8,
        "rows": 5
       }
      },
      "text/html": [
       "<div>\n",
       "<style scoped>\n",
       "    .dataframe tbody tr th:only-of-type {\n",
       "        vertical-align: middle;\n",
       "    }\n",
       "\n",
       "    .dataframe tbody tr th {\n",
       "        vertical-align: top;\n",
       "    }\n",
       "\n",
       "    .dataframe thead th {\n",
       "        text-align: right;\n",
       "    }\n",
       "</style>\n",
       "<table border=\"1\" class=\"dataframe\">\n",
       "  <thead>\n",
       "    <tr style=\"text-align: right;\">\n",
       "      <th></th>\n",
       "      <th>Loyalty Number</th>\n",
       "      <th>Year</th>\n",
       "      <th>Month</th>\n",
       "      <th>Total Flights</th>\n",
       "      <th>Distance</th>\n",
       "      <th>Points Accumulated</th>\n",
       "      <th>Points Redeemed</th>\n",
       "      <th>Dollar Cost Points Redeemed</th>\n",
       "    </tr>\n",
       "  </thead>\n",
       "  <tbody>\n",
       "    <tr>\n",
       "      <th>0</th>\n",
       "      <td>100590</td>\n",
       "      <td>2018</td>\n",
       "      <td>6</td>\n",
       "      <td>12</td>\n",
       "      <td>15276</td>\n",
       "      <td>22914.0</td>\n",
       "      <td>0</td>\n",
       "      <td>0</td>\n",
       "    </tr>\n",
       "    <tr>\n",
       "      <th>1</th>\n",
       "      <td>100590</td>\n",
       "      <td>2018</td>\n",
       "      <td>7</td>\n",
       "      <td>12</td>\n",
       "      <td>9168</td>\n",
       "      <td>13752.0</td>\n",
       "      <td>0</td>\n",
       "      <td>0</td>\n",
       "    </tr>\n",
       "    <tr>\n",
       "      <th>2</th>\n",
       "      <td>100590</td>\n",
       "      <td>2018</td>\n",
       "      <td>5</td>\n",
       "      <td>4</td>\n",
       "      <td>6504</td>\n",
       "      <td>9756.0</td>\n",
       "      <td>0</td>\n",
       "      <td>0</td>\n",
       "    </tr>\n",
       "    <tr>\n",
       "      <th>3</th>\n",
       "      <td>100590</td>\n",
       "      <td>2018</td>\n",
       "      <td>10</td>\n",
       "      <td>0</td>\n",
       "      <td>0</td>\n",
       "      <td>0.0</td>\n",
       "      <td>512</td>\n",
       "      <td>92</td>\n",
       "    </tr>\n",
       "    <tr>\n",
       "      <th>4</th>\n",
       "      <td>100590</td>\n",
       "      <td>2018</td>\n",
       "      <td>2</td>\n",
       "      <td>0</td>\n",
       "      <td>0</td>\n",
       "      <td>0.0</td>\n",
       "      <td>0</td>\n",
       "      <td>0</td>\n",
       "    </tr>\n",
       "  </tbody>\n",
       "</table>\n",
       "</div>"
      ],
      "text/plain": [
       "   Loyalty Number  Year  Month  Total Flights  Distance  Points Accumulated  \\\n",
       "0          100590  2018      6             12     15276             22914.0   \n",
       "1          100590  2018      7             12      9168             13752.0   \n",
       "2          100590  2018      5              4      6504              9756.0   \n",
       "3          100590  2018     10              0         0                 0.0   \n",
       "4          100590  2018      2              0         0                 0.0   \n",
       "\n",
       "   Points Redeemed  Dollar Cost Points Redeemed  \n",
       "0                0                            0  \n",
       "1                0                            0  \n",
       "2                0                            0  \n",
       "3              512                           92  \n",
       "4                0                            0  "
      ]
     },
     "execution_count": 4,
     "metadata": {},
     "output_type": "execute_result"
    }
   ],
   "source": [
    "fligth_df.head()"
   ]
  },
  {
   "cell_type": "code",
   "execution_count": 5,
   "id": "65404822",
   "metadata": {},
   "outputs": [
    {
     "data": {
      "application/vnd.microsoft.datawrangler.viewer.v0+json": {
       "columns": [
        {
         "name": "index",
         "rawType": "int64",
         "type": "integer"
        },
        {
         "name": "Loyalty Number",
         "rawType": "int64",
         "type": "integer"
        },
        {
         "name": "Country",
         "rawType": "object",
         "type": "string"
        },
        {
         "name": "Province",
         "rawType": "object",
         "type": "string"
        },
        {
         "name": "City",
         "rawType": "object",
         "type": "string"
        },
        {
         "name": "Postal Code",
         "rawType": "object",
         "type": "string"
        },
        {
         "name": "Gender",
         "rawType": "object",
         "type": "string"
        },
        {
         "name": "Education",
         "rawType": "object",
         "type": "string"
        },
        {
         "name": "Salary",
         "rawType": "float64",
         "type": "float"
        },
        {
         "name": "Marital Status",
         "rawType": "object",
         "type": "string"
        },
        {
         "name": "Loyalty Card",
         "rawType": "object",
         "type": "string"
        },
        {
         "name": "CLV",
         "rawType": "float64",
         "type": "float"
        },
        {
         "name": "Enrollment Type",
         "rawType": "object",
         "type": "string"
        },
        {
         "name": "Enrollment Year",
         "rawType": "int64",
         "type": "integer"
        },
        {
         "name": "Enrollment Month",
         "rawType": "int64",
         "type": "integer"
        },
        {
         "name": "Cancellation Year",
         "rawType": "float64",
         "type": "float"
        },
        {
         "name": "Cancellation Month",
         "rawType": "float64",
         "type": "float"
        }
       ],
       "conversionMethod": "pd.DataFrame",
       "ref": "e57a185b-c11e-4ac5-b7a7-6fb4fdbabe10",
       "rows": [
        [
         "0",
         "480934",
         "Canada",
         "Ontario",
         "Toronto",
         "M2Z 4K1",
         "Female",
         "Bachelor",
         "83236.0",
         "Married",
         "Star",
         "3839.14",
         "Standard",
         "2016",
         "2",
         null,
         null
        ],
        [
         "1",
         "549612",
         "Canada",
         "Alberta",
         "Edmonton",
         "T3G 6Y6",
         "Male",
         "College",
         null,
         "Divorced",
         "Star",
         "3839.61",
         "Standard",
         "2016",
         "3",
         null,
         null
        ],
        [
         "2",
         "429460",
         "Canada",
         "British Columbia",
         "Vancouver",
         "V6E 3D9",
         "Male",
         "College",
         null,
         "Single",
         "Star",
         "3839.75",
         "Standard",
         "2014",
         "7",
         "2018.0",
         "1.0"
        ],
        [
         "3",
         "608370",
         "Canada",
         "Ontario",
         "Toronto",
         "P1W 1K4",
         "Male",
         "College",
         null,
         "Single",
         "Star",
         "3839.75",
         "Standard",
         "2013",
         "2",
         null,
         null
        ],
        [
         "4",
         "530508",
         "Canada",
         "Quebec",
         "Hull",
         "J8Y 3Z5",
         "Male",
         "Bachelor",
         "103495.0",
         "Married",
         "Star",
         "3842.79",
         "Standard",
         "2014",
         "10",
         null,
         null
        ]
       ],
       "shape": {
        "columns": 16,
        "rows": 5
       }
      },
      "text/html": [
       "<div>\n",
       "<style scoped>\n",
       "    .dataframe tbody tr th:only-of-type {\n",
       "        vertical-align: middle;\n",
       "    }\n",
       "\n",
       "    .dataframe tbody tr th {\n",
       "        vertical-align: top;\n",
       "    }\n",
       "\n",
       "    .dataframe thead th {\n",
       "        text-align: right;\n",
       "    }\n",
       "</style>\n",
       "<table border=\"1\" class=\"dataframe\">\n",
       "  <thead>\n",
       "    <tr style=\"text-align: right;\">\n",
       "      <th></th>\n",
       "      <th>Loyalty Number</th>\n",
       "      <th>Country</th>\n",
       "      <th>Province</th>\n",
       "      <th>City</th>\n",
       "      <th>Postal Code</th>\n",
       "      <th>Gender</th>\n",
       "      <th>Education</th>\n",
       "      <th>Salary</th>\n",
       "      <th>Marital Status</th>\n",
       "      <th>Loyalty Card</th>\n",
       "      <th>CLV</th>\n",
       "      <th>Enrollment Type</th>\n",
       "      <th>Enrollment Year</th>\n",
       "      <th>Enrollment Month</th>\n",
       "      <th>Cancellation Year</th>\n",
       "      <th>Cancellation Month</th>\n",
       "    </tr>\n",
       "  </thead>\n",
       "  <tbody>\n",
       "    <tr>\n",
       "      <th>0</th>\n",
       "      <td>480934</td>\n",
       "      <td>Canada</td>\n",
       "      <td>Ontario</td>\n",
       "      <td>Toronto</td>\n",
       "      <td>M2Z 4K1</td>\n",
       "      <td>Female</td>\n",
       "      <td>Bachelor</td>\n",
       "      <td>83236.0</td>\n",
       "      <td>Married</td>\n",
       "      <td>Star</td>\n",
       "      <td>3839.14</td>\n",
       "      <td>Standard</td>\n",
       "      <td>2016</td>\n",
       "      <td>2</td>\n",
       "      <td>NaN</td>\n",
       "      <td>NaN</td>\n",
       "    </tr>\n",
       "    <tr>\n",
       "      <th>1</th>\n",
       "      <td>549612</td>\n",
       "      <td>Canada</td>\n",
       "      <td>Alberta</td>\n",
       "      <td>Edmonton</td>\n",
       "      <td>T3G 6Y6</td>\n",
       "      <td>Male</td>\n",
       "      <td>College</td>\n",
       "      <td>NaN</td>\n",
       "      <td>Divorced</td>\n",
       "      <td>Star</td>\n",
       "      <td>3839.61</td>\n",
       "      <td>Standard</td>\n",
       "      <td>2016</td>\n",
       "      <td>3</td>\n",
       "      <td>NaN</td>\n",
       "      <td>NaN</td>\n",
       "    </tr>\n",
       "    <tr>\n",
       "      <th>2</th>\n",
       "      <td>429460</td>\n",
       "      <td>Canada</td>\n",
       "      <td>British Columbia</td>\n",
       "      <td>Vancouver</td>\n",
       "      <td>V6E 3D9</td>\n",
       "      <td>Male</td>\n",
       "      <td>College</td>\n",
       "      <td>NaN</td>\n",
       "      <td>Single</td>\n",
       "      <td>Star</td>\n",
       "      <td>3839.75</td>\n",
       "      <td>Standard</td>\n",
       "      <td>2014</td>\n",
       "      <td>7</td>\n",
       "      <td>2018.0</td>\n",
       "      <td>1.0</td>\n",
       "    </tr>\n",
       "    <tr>\n",
       "      <th>3</th>\n",
       "      <td>608370</td>\n",
       "      <td>Canada</td>\n",
       "      <td>Ontario</td>\n",
       "      <td>Toronto</td>\n",
       "      <td>P1W 1K4</td>\n",
       "      <td>Male</td>\n",
       "      <td>College</td>\n",
       "      <td>NaN</td>\n",
       "      <td>Single</td>\n",
       "      <td>Star</td>\n",
       "      <td>3839.75</td>\n",
       "      <td>Standard</td>\n",
       "      <td>2013</td>\n",
       "      <td>2</td>\n",
       "      <td>NaN</td>\n",
       "      <td>NaN</td>\n",
       "    </tr>\n",
       "    <tr>\n",
       "      <th>4</th>\n",
       "      <td>530508</td>\n",
       "      <td>Canada</td>\n",
       "      <td>Quebec</td>\n",
       "      <td>Hull</td>\n",
       "      <td>J8Y 3Z5</td>\n",
       "      <td>Male</td>\n",
       "      <td>Bachelor</td>\n",
       "      <td>103495.0</td>\n",
       "      <td>Married</td>\n",
       "      <td>Star</td>\n",
       "      <td>3842.79</td>\n",
       "      <td>Standard</td>\n",
       "      <td>2014</td>\n",
       "      <td>10</td>\n",
       "      <td>NaN</td>\n",
       "      <td>NaN</td>\n",
       "    </tr>\n",
       "  </tbody>\n",
       "</table>\n",
       "</div>"
      ],
      "text/plain": [
       "   Loyalty Number Country          Province       City Postal Code  Gender  \\\n",
       "0          480934  Canada           Ontario    Toronto     M2Z 4K1  Female   \n",
       "1          549612  Canada           Alberta   Edmonton     T3G 6Y6    Male   \n",
       "2          429460  Canada  British Columbia  Vancouver     V6E 3D9    Male   \n",
       "3          608370  Canada           Ontario    Toronto     P1W 1K4    Male   \n",
       "4          530508  Canada            Quebec       Hull     J8Y 3Z5    Male   \n",
       "\n",
       "  Education    Salary Marital Status Loyalty Card      CLV Enrollment Type  \\\n",
       "0  Bachelor   83236.0        Married         Star  3839.14        Standard   \n",
       "1   College       NaN       Divorced         Star  3839.61        Standard   \n",
       "2   College       NaN         Single         Star  3839.75        Standard   \n",
       "3   College       NaN         Single         Star  3839.75        Standard   \n",
       "4  Bachelor  103495.0        Married         Star  3842.79        Standard   \n",
       "\n",
       "   Enrollment Year  Enrollment Month  Cancellation Year  Cancellation Month  \n",
       "0             2016                 2                NaN                 NaN  \n",
       "1             2016                 3                NaN                 NaN  \n",
       "2             2014                 7             2018.0                 1.0  \n",
       "3             2013                 2                NaN                 NaN  \n",
       "4             2014                10                NaN                 NaN  "
      ]
     },
     "execution_count": 5,
     "metadata": {},
     "output_type": "execute_result"
    }
   ],
   "source": [
    "royalty_df.head()"
   ]
  },
  {
   "cell_type": "code",
   "execution_count": 6,
   "id": "c8b17011",
   "metadata": {},
   "outputs": [
    {
     "data": {
      "application/vnd.microsoft.datawrangler.viewer.v0+json": {
       "columns": [
        {
         "name": "index",
         "rawType": "int64",
         "type": "integer"
        },
        {
         "name": "Date",
         "rawType": "object",
         "type": "string"
        },
        {
         "name": "Start of Year",
         "rawType": "object",
         "type": "string"
        },
        {
         "name": "Start of Quarter",
         "rawType": "object",
         "type": "string"
        },
        {
         "name": "Start of Month",
         "rawType": "object",
         "type": "string"
        },
        {
         "name": "Month",
         "rawType": "int32",
         "type": "integer"
        },
        {
         "name": "Year",
         "rawType": "int32",
         "type": "integer"
        }
       ],
       "conversionMethod": "pd.DataFrame",
       "ref": "2b2c2dc9-f69d-436d-8466-c475ccc8f859",
       "rows": [
        [
         "0",
         "2012-01-01",
         "2012-01-01",
         "2012-01-01",
         "2012-01-01",
         "1",
         "2012"
        ],
        [
         "1",
         "2012-01-02",
         "2012-01-01",
         "2012-01-01",
         "2012-01-01",
         "1",
         "2012"
        ],
        [
         "2",
         "2012-01-03",
         "2012-01-01",
         "2012-01-01",
         "2012-01-01",
         "1",
         "2012"
        ],
        [
         "3",
         "2012-01-04",
         "2012-01-01",
         "2012-01-01",
         "2012-01-01",
         "1",
         "2012"
        ],
        [
         "4",
         "2012-01-05",
         "2012-01-01",
         "2012-01-01",
         "2012-01-01",
         "1",
         "2012"
        ]
       ],
       "shape": {
        "columns": 6,
        "rows": 5
       }
      },
      "text/html": [
       "<div>\n",
       "<style scoped>\n",
       "    .dataframe tbody tr th:only-of-type {\n",
       "        vertical-align: middle;\n",
       "    }\n",
       "\n",
       "    .dataframe tbody tr th {\n",
       "        vertical-align: top;\n",
       "    }\n",
       "\n",
       "    .dataframe thead th {\n",
       "        text-align: right;\n",
       "    }\n",
       "</style>\n",
       "<table border=\"1\" class=\"dataframe\">\n",
       "  <thead>\n",
       "    <tr style=\"text-align: right;\">\n",
       "      <th></th>\n",
       "      <th>Date</th>\n",
       "      <th>Start of Year</th>\n",
       "      <th>Start of Quarter</th>\n",
       "      <th>Start of Month</th>\n",
       "      <th>Month</th>\n",
       "      <th>Year</th>\n",
       "    </tr>\n",
       "  </thead>\n",
       "  <tbody>\n",
       "    <tr>\n",
       "      <th>0</th>\n",
       "      <td>2012-01-01</td>\n",
       "      <td>2012-01-01</td>\n",
       "      <td>2012-01-01</td>\n",
       "      <td>2012-01-01</td>\n",
       "      <td>1</td>\n",
       "      <td>2012</td>\n",
       "    </tr>\n",
       "    <tr>\n",
       "      <th>1</th>\n",
       "      <td>2012-01-02</td>\n",
       "      <td>2012-01-01</td>\n",
       "      <td>2012-01-01</td>\n",
       "      <td>2012-01-01</td>\n",
       "      <td>1</td>\n",
       "      <td>2012</td>\n",
       "    </tr>\n",
       "    <tr>\n",
       "      <th>2</th>\n",
       "      <td>2012-01-03</td>\n",
       "      <td>2012-01-01</td>\n",
       "      <td>2012-01-01</td>\n",
       "      <td>2012-01-01</td>\n",
       "      <td>1</td>\n",
       "      <td>2012</td>\n",
       "    </tr>\n",
       "    <tr>\n",
       "      <th>3</th>\n",
       "      <td>2012-01-04</td>\n",
       "      <td>2012-01-01</td>\n",
       "      <td>2012-01-01</td>\n",
       "      <td>2012-01-01</td>\n",
       "      <td>1</td>\n",
       "      <td>2012</td>\n",
       "    </tr>\n",
       "    <tr>\n",
       "      <th>4</th>\n",
       "      <td>2012-01-05</td>\n",
       "      <td>2012-01-01</td>\n",
       "      <td>2012-01-01</td>\n",
       "      <td>2012-01-01</td>\n",
       "      <td>1</td>\n",
       "      <td>2012</td>\n",
       "    </tr>\n",
       "  </tbody>\n",
       "</table>\n",
       "</div>"
      ],
      "text/plain": [
       "         Date Start of Year Start of Quarter Start of Month  Month  Year\n",
       "0  2012-01-01    2012-01-01       2012-01-01     2012-01-01      1  2012\n",
       "1  2012-01-02    2012-01-01       2012-01-01     2012-01-01      1  2012\n",
       "2  2012-01-03    2012-01-01       2012-01-01     2012-01-01      1  2012\n",
       "3  2012-01-04    2012-01-01       2012-01-01     2012-01-01      1  2012\n",
       "4  2012-01-05    2012-01-01       2012-01-01     2012-01-01      1  2012"
      ]
     },
     "execution_count": 6,
     "metadata": {},
     "output_type": "execute_result"
    }
   ],
   "source": [
    "calendar_df[\"Month\"] = pd.to_datetime(calendar_df[\"Date\"]).dt.month\n",
    "calendar_df[\"Year\"] = pd.to_datetime(calendar_df[\"Date\"]).dt.year\n",
    "calendar_df.head()"
   ]
  },
  {
   "cell_type": "code",
   "execution_count": 7,
   "id": "896398d4",
   "metadata": {},
   "outputs": [
    {
     "name": "stdout",
     "output_type": "stream",
     "text": [
      "2018\n"
     ]
    }
   ],
   "source": [
    "print(royalty_df[\"Enrollment Year\"].max())"
   ]
  },
  {
   "cell_type": "markdown",
   "id": "0ff63494",
   "metadata": {},
   "source": [
    "**Promotion Effectiveness:**\n",
    "\n",
    "H0 (Null Hypothesis): The 2018 promotional campaign had no impact on the number of loyalty sign-ups.\n",
    "\n",
    "H1 (Alternative Hypothesis): The 2018 promotional campaign led to a significant increase in sign-ups."
   ]
  },
  {
   "cell_type": "code",
   "execution_count": 8,
   "id": "bc475e56",
   "metadata": {},
   "outputs": [
    {
     "data": {
      "text/plain": [
       "array(['Standard', '2018 Promotion'], dtype=object)"
      ]
     },
     "execution_count": 8,
     "metadata": {},
     "output_type": "execute_result"
    }
   ],
   "source": [
    "royalty_df[\"Enrollment Type\"].unique()"
   ]
  },
  {
   "cell_type": "code",
   "execution_count": 9,
   "id": "c085e454",
   "metadata": {},
   "outputs": [
    {
     "data": {
      "text/plain": [
       "array(['Standard', '2018 Promotion'], dtype=object)"
      ]
     },
     "execution_count": 9,
     "metadata": {},
     "output_type": "execute_result"
    }
   ],
   "source": [
    "royalty_df[\"Enrollment Type\"].unique()"
   ]
  },
  {
   "cell_type": "code",
   "execution_count": 10,
   "id": "b29335d0",
   "metadata": {},
   "outputs": [],
   "source": [
    "promotion_test = royalty_df.copy()\n",
    "promotion_test[\"test_group\"] = promotion_test[\"Enrollment Type\"].apply(lambda x: \"test\" if x == \"2018 Promotion\" else \"control\")"
   ]
  },
  {
   "cell_type": "code",
   "execution_count": 11,
   "id": "0ca7878b",
   "metadata": {},
   "outputs": [
    {
     "data": {
      "application/vnd.microsoft.datawrangler.viewer.v0+json": {
       "columns": [
        {
         "name": "index",
         "rawType": "int64",
         "type": "integer"
        },
        {
         "name": "Loyalty Number",
         "rawType": "int64",
         "type": "integer"
        },
        {
         "name": "Country",
         "rawType": "object",
         "type": "string"
        },
        {
         "name": "Province",
         "rawType": "object",
         "type": "string"
        },
        {
         "name": "City",
         "rawType": "object",
         "type": "string"
        },
        {
         "name": "Postal Code",
         "rawType": "object",
         "type": "string"
        },
        {
         "name": "Gender",
         "rawType": "object",
         "type": "string"
        },
        {
         "name": "Education",
         "rawType": "object",
         "type": "string"
        },
        {
         "name": "Salary",
         "rawType": "float64",
         "type": "float"
        },
        {
         "name": "Marital Status",
         "rawType": "object",
         "type": "string"
        },
        {
         "name": "Loyalty Card",
         "rawType": "object",
         "type": "string"
        },
        {
         "name": "CLV",
         "rawType": "float64",
         "type": "float"
        },
        {
         "name": "Enrollment Type",
         "rawType": "object",
         "type": "string"
        },
        {
         "name": "Enrollment Year",
         "rawType": "int64",
         "type": "integer"
        },
        {
         "name": "Enrollment Month",
         "rawType": "int64",
         "type": "integer"
        },
        {
         "name": "Cancellation Year",
         "rawType": "float64",
         "type": "float"
        },
        {
         "name": "Cancellation Month",
         "rawType": "float64",
         "type": "float"
        },
        {
         "name": "test_group",
         "rawType": "object",
         "type": "string"
        }
       ],
       "conversionMethod": "pd.DataFrame",
       "ref": "c2283f57-2326-4719-b905-57d92b8ae96f",
       "rows": [
        [
         "0",
         "480934",
         "Canada",
         "Ontario",
         "Toronto",
         "M2Z 4K1",
         "Female",
         "Bachelor",
         "83236.0",
         "Married",
         "Star",
         "3839.14",
         "Standard",
         "2016",
         "2",
         null,
         null,
         "control"
        ],
        [
         "1",
         "549612",
         "Canada",
         "Alberta",
         "Edmonton",
         "T3G 6Y6",
         "Male",
         "College",
         null,
         "Divorced",
         "Star",
         "3839.61",
         "Standard",
         "2016",
         "3",
         null,
         null,
         "control"
        ],
        [
         "2",
         "429460",
         "Canada",
         "British Columbia",
         "Vancouver",
         "V6E 3D9",
         "Male",
         "College",
         null,
         "Single",
         "Star",
         "3839.75",
         "Standard",
         "2014",
         "7",
         "2018.0",
         "1.0",
         "control"
        ],
        [
         "3",
         "608370",
         "Canada",
         "Ontario",
         "Toronto",
         "P1W 1K4",
         "Male",
         "College",
         null,
         "Single",
         "Star",
         "3839.75",
         "Standard",
         "2013",
         "2",
         null,
         null,
         "control"
        ],
        [
         "4",
         "530508",
         "Canada",
         "Quebec",
         "Hull",
         "J8Y 3Z5",
         "Male",
         "Bachelor",
         "103495.0",
         "Married",
         "Star",
         "3842.79",
         "Standard",
         "2014",
         "10",
         null,
         null,
         "control"
        ]
       ],
       "shape": {
        "columns": 17,
        "rows": 5
       }
      },
      "text/html": [
       "<div>\n",
       "<style scoped>\n",
       "    .dataframe tbody tr th:only-of-type {\n",
       "        vertical-align: middle;\n",
       "    }\n",
       "\n",
       "    .dataframe tbody tr th {\n",
       "        vertical-align: top;\n",
       "    }\n",
       "\n",
       "    .dataframe thead th {\n",
       "        text-align: right;\n",
       "    }\n",
       "</style>\n",
       "<table border=\"1\" class=\"dataframe\">\n",
       "  <thead>\n",
       "    <tr style=\"text-align: right;\">\n",
       "      <th></th>\n",
       "      <th>Loyalty Number</th>\n",
       "      <th>Country</th>\n",
       "      <th>Province</th>\n",
       "      <th>City</th>\n",
       "      <th>Postal Code</th>\n",
       "      <th>Gender</th>\n",
       "      <th>Education</th>\n",
       "      <th>Salary</th>\n",
       "      <th>Marital Status</th>\n",
       "      <th>Loyalty Card</th>\n",
       "      <th>CLV</th>\n",
       "      <th>Enrollment Type</th>\n",
       "      <th>Enrollment Year</th>\n",
       "      <th>Enrollment Month</th>\n",
       "      <th>Cancellation Year</th>\n",
       "      <th>Cancellation Month</th>\n",
       "      <th>test_group</th>\n",
       "    </tr>\n",
       "  </thead>\n",
       "  <tbody>\n",
       "    <tr>\n",
       "      <th>0</th>\n",
       "      <td>480934</td>\n",
       "      <td>Canada</td>\n",
       "      <td>Ontario</td>\n",
       "      <td>Toronto</td>\n",
       "      <td>M2Z 4K1</td>\n",
       "      <td>Female</td>\n",
       "      <td>Bachelor</td>\n",
       "      <td>83236.0</td>\n",
       "      <td>Married</td>\n",
       "      <td>Star</td>\n",
       "      <td>3839.14</td>\n",
       "      <td>Standard</td>\n",
       "      <td>2016</td>\n",
       "      <td>2</td>\n",
       "      <td>NaN</td>\n",
       "      <td>NaN</td>\n",
       "      <td>control</td>\n",
       "    </tr>\n",
       "    <tr>\n",
       "      <th>1</th>\n",
       "      <td>549612</td>\n",
       "      <td>Canada</td>\n",
       "      <td>Alberta</td>\n",
       "      <td>Edmonton</td>\n",
       "      <td>T3G 6Y6</td>\n",
       "      <td>Male</td>\n",
       "      <td>College</td>\n",
       "      <td>NaN</td>\n",
       "      <td>Divorced</td>\n",
       "      <td>Star</td>\n",
       "      <td>3839.61</td>\n",
       "      <td>Standard</td>\n",
       "      <td>2016</td>\n",
       "      <td>3</td>\n",
       "      <td>NaN</td>\n",
       "      <td>NaN</td>\n",
       "      <td>control</td>\n",
       "    </tr>\n",
       "    <tr>\n",
       "      <th>2</th>\n",
       "      <td>429460</td>\n",
       "      <td>Canada</td>\n",
       "      <td>British Columbia</td>\n",
       "      <td>Vancouver</td>\n",
       "      <td>V6E 3D9</td>\n",
       "      <td>Male</td>\n",
       "      <td>College</td>\n",
       "      <td>NaN</td>\n",
       "      <td>Single</td>\n",
       "      <td>Star</td>\n",
       "      <td>3839.75</td>\n",
       "      <td>Standard</td>\n",
       "      <td>2014</td>\n",
       "      <td>7</td>\n",
       "      <td>2018.0</td>\n",
       "      <td>1.0</td>\n",
       "      <td>control</td>\n",
       "    </tr>\n",
       "    <tr>\n",
       "      <th>3</th>\n",
       "      <td>608370</td>\n",
       "      <td>Canada</td>\n",
       "      <td>Ontario</td>\n",
       "      <td>Toronto</td>\n",
       "      <td>P1W 1K4</td>\n",
       "      <td>Male</td>\n",
       "      <td>College</td>\n",
       "      <td>NaN</td>\n",
       "      <td>Single</td>\n",
       "      <td>Star</td>\n",
       "      <td>3839.75</td>\n",
       "      <td>Standard</td>\n",
       "      <td>2013</td>\n",
       "      <td>2</td>\n",
       "      <td>NaN</td>\n",
       "      <td>NaN</td>\n",
       "      <td>control</td>\n",
       "    </tr>\n",
       "    <tr>\n",
       "      <th>4</th>\n",
       "      <td>530508</td>\n",
       "      <td>Canada</td>\n",
       "      <td>Quebec</td>\n",
       "      <td>Hull</td>\n",
       "      <td>J8Y 3Z5</td>\n",
       "      <td>Male</td>\n",
       "      <td>Bachelor</td>\n",
       "      <td>103495.0</td>\n",
       "      <td>Married</td>\n",
       "      <td>Star</td>\n",
       "      <td>3842.79</td>\n",
       "      <td>Standard</td>\n",
       "      <td>2014</td>\n",
       "      <td>10</td>\n",
       "      <td>NaN</td>\n",
       "      <td>NaN</td>\n",
       "      <td>control</td>\n",
       "    </tr>\n",
       "  </tbody>\n",
       "</table>\n",
       "</div>"
      ],
      "text/plain": [
       "   Loyalty Number Country          Province       City Postal Code  Gender  \\\n",
       "0          480934  Canada           Ontario    Toronto     M2Z 4K1  Female   \n",
       "1          549612  Canada           Alberta   Edmonton     T3G 6Y6    Male   \n",
       "2          429460  Canada  British Columbia  Vancouver     V6E 3D9    Male   \n",
       "3          608370  Canada           Ontario    Toronto     P1W 1K4    Male   \n",
       "4          530508  Canada            Quebec       Hull     J8Y 3Z5    Male   \n",
       "\n",
       "  Education    Salary Marital Status Loyalty Card      CLV Enrollment Type  \\\n",
       "0  Bachelor   83236.0        Married         Star  3839.14        Standard   \n",
       "1   College       NaN       Divorced         Star  3839.61        Standard   \n",
       "2   College       NaN         Single         Star  3839.75        Standard   \n",
       "3   College       NaN         Single         Star  3839.75        Standard   \n",
       "4  Bachelor  103495.0        Married         Star  3842.79        Standard   \n",
       "\n",
       "   Enrollment Year  Enrollment Month  Cancellation Year  Cancellation Month  \\\n",
       "0             2016                 2                NaN                 NaN   \n",
       "1             2016                 3                NaN                 NaN   \n",
       "2             2014                 7             2018.0                 1.0   \n",
       "3             2013                 2                NaN                 NaN   \n",
       "4             2014                10                NaN                 NaN   \n",
       "\n",
       "  test_group  \n",
       "0    control  \n",
       "1    control  \n",
       "2    control  \n",
       "3    control  \n",
       "4    control  "
      ]
     },
     "execution_count": 11,
     "metadata": {},
     "output_type": "execute_result"
    }
   ],
   "source": [
    "promotion_test.head()"
   ]
  },
  {
   "cell_type": "code",
   "execution_count": 12,
   "id": "417a2c4d",
   "metadata": {},
   "outputs": [
    {
     "data": {
      "text/plain": [
       "Loyalty Number            0\n",
       "Country                   0\n",
       "Province                  0\n",
       "City                      0\n",
       "Postal Code               0\n",
       "Gender                    0\n",
       "Education                 0\n",
       "Salary                 4238\n",
       "Marital Status            0\n",
       "Loyalty Card              0\n",
       "CLV                       0\n",
       "Enrollment Type           0\n",
       "Enrollment Year           0\n",
       "Enrollment Month          0\n",
       "Cancellation Year     14670\n",
       "Cancellation Month    14670\n",
       "test_group                0\n",
       "dtype: int64"
      ]
     },
     "execution_count": 12,
     "metadata": {},
     "output_type": "execute_result"
    }
   ],
   "source": [
    "promotion_test.isnull().sum()"
   ]
  },
  {
   "cell_type": "code",
   "execution_count": 13,
   "id": "0182ba4b",
   "metadata": {},
   "outputs": [
    {
     "data": {
      "application/vnd.microsoft.datawrangler.viewer.v0+json": {
       "columns": [
        {
         "name": "index",
         "rawType": "int64",
         "type": "integer"
        },
        {
         "name": "Enrollment Year",
         "rawType": "int64",
         "type": "integer"
        },
        {
         "name": "Enrollment Month",
         "rawType": "int64",
         "type": "integer"
        },
        {
         "name": "Signups",
         "rawType": "int64",
         "type": "integer"
        }
       ],
       "conversionMethod": "pd.DataFrame",
       "ref": "e2101fb3-064d-4e6b-b3bf-ad590a60b7b8",
       "rows": [
        [
         "0",
         "2012",
         "4",
         "62"
        ],
        [
         "1",
         "2012",
         "5",
         "203"
        ],
        [
         "2",
         "2012",
         "6",
         "195"
        ],
        [
         "3",
         "2012",
         "7",
         "213"
        ],
        [
         "4",
         "2012",
         "8",
         "206"
        ],
        [
         "5",
         "2012",
         "9",
         "204"
        ],
        [
         "6",
         "2012",
         "10",
         "207"
        ],
        [
         "7",
         "2012",
         "11",
         "198"
        ],
        [
         "8",
         "2012",
         "12",
         "198"
        ],
        [
         "9",
         "2013",
         "1",
         "237"
        ],
        [
         "10",
         "2013",
         "2",
         "175"
        ],
        [
         "11",
         "2013",
         "3",
         "201"
        ],
        [
         "12",
         "2013",
         "4",
         "192"
        ],
        [
         "13",
         "2013",
         "5",
         "207"
        ],
        [
         "14",
         "2013",
         "6",
         "190"
        ],
        [
         "15",
         "2013",
         "7",
         "191"
        ],
        [
         "16",
         "2013",
         "8",
         "197"
        ],
        [
         "17",
         "2013",
         "9",
         "198"
        ],
        [
         "18",
         "2013",
         "10",
         "212"
        ],
        [
         "19",
         "2013",
         "11",
         "190"
        ],
        [
         "20",
         "2013",
         "12",
         "207"
        ],
        [
         "21",
         "2014",
         "1",
         "183"
        ],
        [
         "22",
         "2014",
         "2",
         "189"
        ],
        [
         "23",
         "2014",
         "3",
         "199"
        ],
        [
         "24",
         "2014",
         "4",
         "178"
        ],
        [
         "25",
         "2014",
         "5",
         "203"
        ],
        [
         "26",
         "2014",
         "6",
         "172"
        ],
        [
         "27",
         "2014",
         "7",
         "213"
        ],
        [
         "28",
         "2014",
         "8",
         "198"
        ],
        [
         "29",
         "2014",
         "9",
         "204"
        ],
        [
         "30",
         "2014",
         "10",
         "208"
        ],
        [
         "31",
         "2014",
         "11",
         "215"
        ],
        [
         "32",
         "2014",
         "12",
         "208"
        ],
        [
         "33",
         "2015",
         "1",
         "187"
        ],
        [
         "34",
         "2015",
         "2",
         "184"
        ],
        [
         "35",
         "2015",
         "3",
         "183"
        ],
        [
         "36",
         "2015",
         "4",
         "200"
        ],
        [
         "37",
         "2015",
         "5",
         "184"
        ],
        [
         "38",
         "2015",
         "6",
         "173"
        ],
        [
         "39",
         "2015",
         "7",
         "197"
        ],
        [
         "40",
         "2015",
         "8",
         "196"
        ],
        [
         "41",
         "2015",
         "9",
         "200"
        ],
        [
         "42",
         "2015",
         "10",
         "200"
        ],
        [
         "43",
         "2015",
         "11",
         "216"
        ],
        [
         "44",
         "2015",
         "12",
         "211"
        ],
        [
         "45",
         "2016",
         "1",
         "205"
        ],
        [
         "46",
         "2016",
         "2",
         "181"
        ],
        [
         "47",
         "2016",
         "3",
         "208"
        ],
        [
         "48",
         "2016",
         "4",
         "214"
        ],
        [
         "49",
         "2016",
         "5",
         "231"
        ]
       ],
       "shape": {
        "columns": 3,
        "rows": 81
       }
      },
      "text/html": [
       "<div>\n",
       "<style scoped>\n",
       "    .dataframe tbody tr th:only-of-type {\n",
       "        vertical-align: middle;\n",
       "    }\n",
       "\n",
       "    .dataframe tbody tr th {\n",
       "        vertical-align: top;\n",
       "    }\n",
       "\n",
       "    .dataframe thead th {\n",
       "        text-align: right;\n",
       "    }\n",
       "</style>\n",
       "<table border=\"1\" class=\"dataframe\">\n",
       "  <thead>\n",
       "    <tr style=\"text-align: right;\">\n",
       "      <th></th>\n",
       "      <th>Enrollment Year</th>\n",
       "      <th>Enrollment Month</th>\n",
       "      <th>Signups</th>\n",
       "    </tr>\n",
       "  </thead>\n",
       "  <tbody>\n",
       "    <tr>\n",
       "      <th>0</th>\n",
       "      <td>2012</td>\n",
       "      <td>4</td>\n",
       "      <td>62</td>\n",
       "    </tr>\n",
       "    <tr>\n",
       "      <th>1</th>\n",
       "      <td>2012</td>\n",
       "      <td>5</td>\n",
       "      <td>203</td>\n",
       "    </tr>\n",
       "    <tr>\n",
       "      <th>2</th>\n",
       "      <td>2012</td>\n",
       "      <td>6</td>\n",
       "      <td>195</td>\n",
       "    </tr>\n",
       "    <tr>\n",
       "      <th>3</th>\n",
       "      <td>2012</td>\n",
       "      <td>7</td>\n",
       "      <td>213</td>\n",
       "    </tr>\n",
       "    <tr>\n",
       "      <th>4</th>\n",
       "      <td>2012</td>\n",
       "      <td>8</td>\n",
       "      <td>206</td>\n",
       "    </tr>\n",
       "    <tr>\n",
       "      <th>...</th>\n",
       "      <td>...</td>\n",
       "      <td>...</td>\n",
       "      <td>...</td>\n",
       "    </tr>\n",
       "    <tr>\n",
       "      <th>76</th>\n",
       "      <td>2018</td>\n",
       "      <td>8</td>\n",
       "      <td>218</td>\n",
       "    </tr>\n",
       "    <tr>\n",
       "      <th>77</th>\n",
       "      <td>2018</td>\n",
       "      <td>9</td>\n",
       "      <td>185</td>\n",
       "    </tr>\n",
       "    <tr>\n",
       "      <th>78</th>\n",
       "      <td>2018</td>\n",
       "      <td>10</td>\n",
       "      <td>213</td>\n",
       "    </tr>\n",
       "    <tr>\n",
       "      <th>79</th>\n",
       "      <td>2018</td>\n",
       "      <td>11</td>\n",
       "      <td>246</td>\n",
       "    </tr>\n",
       "    <tr>\n",
       "      <th>80</th>\n",
       "      <td>2018</td>\n",
       "      <td>12</td>\n",
       "      <td>238</td>\n",
       "    </tr>\n",
       "  </tbody>\n",
       "</table>\n",
       "<p>81 rows × 3 columns</p>\n",
       "</div>"
      ],
      "text/plain": [
       "    Enrollment Year  Enrollment Month  Signups\n",
       "0              2012                 4       62\n",
       "1              2012                 5      203\n",
       "2              2012                 6      195\n",
       "3              2012                 7      213\n",
       "4              2012                 8      206\n",
       "..              ...               ...      ...\n",
       "76             2018                 8      218\n",
       "77             2018                 9      185\n",
       "78             2018                10      213\n",
       "79             2018                11      246\n",
       "80             2018                12      238\n",
       "\n",
       "[81 rows x 3 columns]"
      ]
     },
     "execution_count": 13,
     "metadata": {},
     "output_type": "execute_result"
    }
   ],
   "source": [
    "promotion_test = promotion_test.groupby([\"Enrollment Year\", \"Enrollment Month\"])[\"Loyalty Number\"].count().reset_index(name=\"Signups\")\n",
    "promotion_test\n"
   ]
  },
  {
   "cell_type": "code",
   "execution_count": 14,
   "id": "c9ea9d63",
   "metadata": {},
   "outputs": [
    {
     "data": {
      "text/plain": [
       "<Axes: >"
      ]
     },
     "execution_count": 14,
     "metadata": {},
     "output_type": "execute_result"
    },
    {
     "data": {
      "image/png": "[encoded data removed]",
      "text/plain": [
       "<Figure size 640x480 with 1 Axes>"
      ]
     },
     "metadata": {},
     "output_type": "display_data"
    }
   ],
   "source": [
    "sns.boxplot(data=promotion_test[\"Signups\"])"
   ]
  },
  {
   "cell_type": "code",
   "execution_count": 15,
   "id": "e2232f93",
   "metadata": {},
   "outputs": [
    {
     "data": {
      "text/plain": [
       "<Axes: >"
      ]
     },
     "execution_count": 15,
     "metadata": {},
     "output_type": "execute_result"
    },
    {
     "data": {
      "image/png": "[encoded data removed]",
      "text/plain": [
       "<Figure size 640x480 with 1 Axes>"
      ]
     },
     "metadata": {},
     "output_type": "display_data"
    }
   ],
   "source": [
    "sns.boxplot(data=promotion_test[\"Signups\"])"
   ]
  },
  {
   "cell_type": "code",
   "execution_count": 16,
   "id": "d5bfed10",
   "metadata": {},
   "outputs": [
    {
     "name": "stderr",
     "output_type": "stream",
     "text": [
      "c:\\Users\\somph\\anaconda3\\Lib\\site-packages\\seaborn\\_oldcore.py:1119: FutureWarning: use_inf_as_na option is deprecated and will be removed in a future version. Convert inf values to NaN before operating instead.\n",
      "  with pd.option_context('mode.use_inf_as_na', True):\n"
     ]
    },
    {
     "data": {
      "image/png": "[encoded data removed]",
      "text/plain": [
       "<Figure size 640x480 with 1 Axes>"
      ]
     },
     "metadata": {},
     "output_type": "display_data"
    },
    {
     "name": "stdout",
     "output_type": "stream",
     "text": [
      "Skewness: 0.8672156924057355\n"
     ]
    }
   ],
   "source": [
    "sns.histplot(data= promotion_test[\"Signups\"], bins = 20)\n",
    "plt.show()\n",
    "skewness_value = skew(promotion_test[\"Signups\"])\n",
    "print(f\"Skewness: {skewness_value}\")\n"
   ]
  },
  {
   "cell_type": "code",
   "execution_count": 17,
   "id": "e1da1c71",
   "metadata": {},
   "outputs": [],
   "source": [
    "promotions_period = (promotion_test[\"Enrollment Month\"].isin([2,3,4]) ) & (promotion_test[\"Enrollment Year\"] == 2018)\n",
    "test_group = promotion_test[promotions_period][\"Signups\"]\n",
    "control_group = promotion_test[~promotions_period][\"Signups\"]"
   ]
  },
  {
   "cell_type": "code",
   "execution_count": 18,
   "id": "4d117d12",
   "metadata": {},
   "outputs": [
    {
     "name": "stdout",
     "output_type": "stream",
     "text": [
      "Test Group Size: 3\n",
      "Control Group Size: 78\n"
     ]
    }
   ],
   "source": [
    "print(f\"Test Group Size: {len(test_group)}\")\n",
    "print(f\"Control Group Size: {len(control_group)}\")"
   ]
  },
  {
   "cell_type": "code",
   "execution_count": 19,
   "id": "5ccd2775",
   "metadata": {},
   "outputs": [
    {
     "name": "stdout",
     "output_type": "stream",
     "text": [
      "t-test: 7.944364121776659\n",
      "p-value: 0.012855915442901024\n"
     ]
    }
   ],
   "source": [
    "t_test,p_value = stats.ttest_ind(test_group,control_group,equal_var= False)\n",
    "print(f\"t-test: {t_test}\")\n",
    "print(f\"p-value: {p_value}\")"
   ]
  },
  {
   "cell_type": "code",
   "execution_count": 20,
   "id": "21d6c6da",
   "metadata": {},
   "outputs": [
    {
     "name": "stdout",
     "output_type": "stream",
     "text": [
      "Cohen's d: 4.866232921734129\n"
     ]
    }
   ],
   "source": [
    "mean_diff = test_group.mean() - control_group.mean()\n",
    "pooled_std = np.sqrt((test_group.var() + control_group.var()) / 2)\n",
    "cohen_d = mean_diff / pooled_std\n",
    "\n",
    "print(f\"Cohen's d: {cohen_d}\") "
   ]
  },
  {
   "cell_type": "code",
   "execution_count": 21,
   "id": "7c469871",
   "metadata": {},
   "outputs": [
    {
     "name": "stderr",
     "output_type": "stream",
     "text": [
      "c:\\Users\\somph\\anaconda3\\Lib\\site-packages\\seaborn\\_oldcore.py:1119: FutureWarning: use_inf_as_na option is deprecated and will be removed in a future version. Convert inf values to NaN before operating instead.\n",
      "  with pd.option_context('mode.use_inf_as_na', True):\n",
      "c:\\Users\\somph\\anaconda3\\Lib\\site-packages\\seaborn\\_oldcore.py:1119: FutureWarning: use_inf_as_na option is deprecated and will be removed in a future version. Convert inf values to NaN before operating instead.\n",
      "  with pd.option_context('mode.use_inf_as_na', True):\n"
     ]
    },
    {
     "data": {
      "image/png": "[encoded data removed]",
      "text/plain": [
       "<Figure size 1200x600 with 1 Axes>"
      ]
     },
     "metadata": {},
     "output_type": "display_data"
    }
   ],
   "source": [
    "trend_df = promotion_test.groupby([\"Enrollment Year\", \"Enrollment Month\"])[\"Signups\"].sum().reset_index()\n",
    "trend_df[\"date\"] = pd.to_datetime(trend_df[\"Enrollment Year\"].astype(str) + \"-\" + trend_df[\"Enrollment Month\"].astype(str) + \"-01\")\n",
    "plt.figure(figsize=(12, 6))\n",
    "sns.lineplot(data=trend_df, x=\"date\", y=\"Signups\", marker=\"o\")\n",
    "plt.axvline(pd.to_datetime(\"2018-02-01\"), color='red', linestyle=\"--\", label=\"Promotion Start and End date\")\n",
    "plt.axvline(pd.to_datetime(\"2018-04-30\"), color='red', linestyle=\"--\")\n",
    "plt.xlabel(\"Date\")\n",
    "plt.ylabel(\"Signups\")\n",
    "plt.title(\"Monthly Loyalty Program Signups Over Time\")\n",
    "plt.legend()\n",
    "plt.show()\n"
   ]
  },
  {
   "cell_type": "code",
   "execution_count": 22,
   "id": "ce06800c",
   "metadata": {},
   "outputs": [
    {
     "name": "stdout",
     "output_type": "stream",
     "text": [
      "t-test:7.856171036606433\n",
      "p-value:0.013932056840142254\n"
     ]
    }
   ],
   "source": [
    "test_group_cutoff = promotion_test[\n",
    "    (promotion_test[\"Enrollment Year\"] >= 2013) & \n",
    "    (promotion_test[\"Enrollment Month\"].isin([2, 3, 4])) & \n",
    "    (promotion_test[\"Enrollment Year\"] == 2018)\n",
    "][\"Signups\"]\n",
    "\n",
    "control_group_cutoff = promotion_test[\n",
    "    (promotion_test[\"Enrollment Year\"] >= 2013) & \n",
    "    ~((promotion_test[\"Enrollment Month\"].isin([2, 3, 4])) & (promotion_test[\"Enrollment Year\"] == 2018))\n",
    "][\"Signups\"]\n",
    "\n",
    "t_test_cutoff, p_value_cutoff = stats.ttest_ind(test_group_cutoff, control_group_cutoff, equal_var = False)\n",
    "print(f\"t-test:{t_test_cutoff}\")\n",
    "print(f\"p-value:{p_value_cutoff}\")"
   ]
  },
  {
   "cell_type": "markdown",
   "id": "31248a12",
   "metadata": {},
   "source": [
    "Using 95% confident interval, with p-value of 0.0139, the Null Hypothesis is rejected. Positive t-value shows the promotion is effectively increase royalty program enrollment. "
   ]
  },
  {
   "cell_type": "code",
   "execution_count": 23,
   "id": "8cfae007",
   "metadata": {},
   "outputs": [
    {
     "name": "stdout",
     "output_type": "stream",
     "text": [
      "Cohen's d: 5.27955018923411\n"
     ]
    }
   ],
   "source": [
    "mean_diff_cutoff = test_group_cutoff.mean() - control_group_cutoff.mean()\n",
    "pooled_std_cutoff = np.sqrt((test_group_cutoff.var() + control_group_cutoff.var()) / 2)\n",
    "cohen_d_cutoff = mean_diff_cutoff / pooled_std_cutoff\n",
    "\n",
    "print(f\"Cohen's d: {cohen_d_cutoff}\") "
   ]
  },
  {
   "cell_type": "code",
   "execution_count": 24,
   "id": "a03fa42f",
   "metadata": {},
   "outputs": [
    {
     "data": {
      "image/png": "[encoded data removed]",
      "text/plain": [
       "<Figure size 400x500 with 1 Axes>"
      ]
     },
     "metadata": {},
     "output_type": "display_data"
    }
   ],
   "source": [
    "mean_test = test_group_cutoff.mean()\n",
    "mean_control = control_group_cutoff.mean()\n",
    "\n",
    "plot_df = pd.DataFrame({\n",
    "    \"Group\": [\"Promotion Period\", \"Control Period\"],\n",
    "    \"Mean Signups\": [mean_test, mean_control]\n",
    "})\n",
    "plt.figure(figsize=(4, 5))\n",
    "sns.barplot(data=plot_df, x=\"Group\", y=\"Mean Signups\", errorbar=('ci', 95), palette=[\"red\", \"blue\"])\n",
    "plt.ylabel(\"Average Signups\")\n",
    "plt.xlabel(\"Group\")\n",
    "plt.title(\"Comparison of Mean Sign-ups: Promotion vs. Control\")\n",
    "\n",
    "for index, value in enumerate(plot_df[\"Mean Signups\"]):\n",
    "    plt.text(index, value + 5, f\"{value:.1f}\", ha='center', fontsize=12)\n",
    "\n",
    "plt.show()\n"
   ]
  },
  {
   "cell_type": "markdown",
   "id": "e56b0718",
   "metadata": {},
   "source": [
    "**Points Redemption and Retention:**\n",
    "\n",
    "H0: Redeeming loyalty points has no effect on customer retention.\n",
    "\n",
    "H1: Customers who redeem points are more likely to remain active in the program."
   ]
  },
  {
   "cell_type": "code",
   "execution_count": 25,
   "id": "4b6efedf",
   "metadata": {},
   "outputs": [],
   "source": [
    "royalty_test = royalty_df[royalty_df[\"Enrollment Year\"] >= 2013].copy()\n",
    "royalty_test[\"is_royal\"] = royalty_test[\"Cancellation Month\"].isnull().astype(int)"
   ]
  },
  {
   "cell_type": "code",
   "execution_count": 26,
   "id": "9a1e94c3",
   "metadata": {},
   "outputs": [],
   "source": [
    "royalty_test = royalty_test.groupby([\"Enrollment Year\", \"Enrollment Month\"])[\"is_royal\"].sum().reset_index(name= \"Active\")"
   ]
  },
  {
   "cell_type": "code",
   "execution_count": 27,
   "id": "bcd848a1",
   "metadata": {},
   "outputs": [
    {
     "name": "stdout",
     "output_type": "stream",
     "text": [
      "t-test:8.485943254072186\n",
      "p-value:0.009791666282892209\n"
     ]
    }
   ],
   "source": [
    "test_group_royalty = royalty_test[\n",
    "    ( royalty_test[\"Enrollment Year\"] >= 2013) & \n",
    "    ( royalty_test[\"Enrollment Month\"].isin([2, 3, 4])) & \n",
    "    ( royalty_test[\"Enrollment Year\"] == 2018)\n",
    "][\"Active\"]\n",
    "\n",
    "control_group_royalty = royalty_test[\n",
    "    ( royalty_test[\"Enrollment Year\"] >= 2013) & \n",
    "    ~((royalty_test[\"Enrollment Month\"].isin([2, 3, 4])) & ( royalty_test[\"Enrollment Year\"] == 2018))\n",
    "][\"Active\"]\n",
    "\n",
    "t_test_royalty, p_value_royalty = stats.ttest_ind(test_group_royalty, control_group_royalty, equal_var = False)\n",
    "print(f\"t-test:{t_test_royalty}\")\n",
    "print(f\"p-value:{p_value_royalty}\")"
   ]
  },
  {
   "cell_type": "code",
   "execution_count": 28,
   "id": "f5adc247",
   "metadata": {},
   "outputs": [
    {
     "name": "stdout",
     "output_type": "stream",
     "text": [
      "Cohen's d: 4.743083117618423\n"
     ]
    }
   ],
   "source": [
    "mean_diff_royal = test_group_royalty.mean() - control_group_royalty.mean()\n",
    "pooled_std_royal = np.sqrt((test_group_royalty.var() + control_group_royalty.var()) / 2)\n",
    "cohen_d_royal = mean_diff_royal / pooled_std_royal\n",
    "\n",
    "print(f\"Cohen's d: {cohen_d_royal}\") "
   ]
  },
  {
   "cell_type": "markdown",
   "id": "8b0005a9",
   "metadata": {},
   "source": [
    "**Retention & Churn Analysis**"
   ]
  },
  {
   "cell_type": "code",
   "execution_count": 29,
   "id": "a50024b9",
   "metadata": {},
   "outputs": [
    {
     "name": "stdout",
     "output_type": "stream",
     "text": [
      "<class 'pandas.core.frame.DataFrame'>\n",
      "RangeIndex: 16737 entries, 0 to 16736\n",
      "Data columns (total 16 columns):\n",
      " #   Column              Non-Null Count  Dtype  \n",
      "---  ------              --------------  -----  \n",
      " 0   Loyalty Number      16737 non-null  int64  \n",
      " 1   Country             16737 non-null  object \n",
      " 2   Province            16737 non-null  object \n",
      " 3   City                16737 non-null  object \n",
      " 4   Postal Code         16737 non-null  object \n",
      " 5   Gender              16737 non-null  object \n",
      " 6   Education           16737 non-null  object \n",
      " 7   Salary              12499 non-null  float64\n",
      " 8   Marital Status      16737 non-null  object \n",
      " 9   Loyalty Card        16737 non-null  object \n",
      " 10  CLV                 16737 non-null  float64\n",
      " 11  Enrollment Type     16737 non-null  object \n",
      " 12  Enrollment Year     16737 non-null  int64  \n",
      " 13  Enrollment Month    16737 non-null  int64  \n",
      " 14  Cancellation Year   2067 non-null   float64\n",
      " 15  Cancellation Month  2067 non-null   float64\n",
      "dtypes: float64(4), int64(3), object(9)\n",
      "memory usage: 2.0+ MB\n",
      "<class 'pandas.core.frame.DataFrame'>\n",
      "RangeIndex: 16737 entries, 0 to 16736\n",
      "Data columns (total 16 columns):\n",
      " #   Column              Non-Null Count  Dtype  \n",
      "---  ------              --------------  -----  \n",
      " 0   Loyalty Number      16737 non-null  int64  \n",
      " 1   Country             16737 non-null  object \n",
      " 2   Province            16737 non-null  object \n",
      " 3   City                16737 non-null  object \n",
      " 4   Postal Code         16737 non-null  object \n",
      " 5   Gender              16737 non-null  object \n",
      " 6   Education           16737 non-null  object \n",
      " 7   Salary              12499 non-null  float64\n",
      " 8   Marital Status      16737 non-null  object \n",
      " 9   Loyalty Card        16737 non-null  object \n",
      " 10  CLV                 16737 non-null  float64\n",
      " 11  Enrollment Type     16737 non-null  object \n",
      " 12  Enrollment Year     16737 non-null  int64  \n",
      " 13  Enrollment Month    16737 non-null  int64  \n",
      " 14  Cancellation Year   2067 non-null   float64\n",
      " 15  Cancellation Month  2067 non-null   float64\n",
      "dtypes: float64(4), int64(3), object(9)\n",
      "memory usage: 2.0+ MB\n"
     ]
    }
   ],
   "source": [
    "royalty_df.info()\n",
    "royalty_df.info()"
   ]
  },
  {
   "cell_type": "code",
   "execution_count": 30,
   "id": "66b10862",
   "metadata": {},
   "outputs": [],
   "source": [
    "Loyalty= royalty_df[royalty_df[\"Enrollment Year\"] >= 2013].copy()\n",
    "Loyalty[\"is_royal\"] = Loyalty[\"Cancellation Month\"].isnull().astype(int)\n",
    "Loyalty = Loyalty.groupby([\"Enrollment Year\" , \"Enrollment Month\"]).agg(Signups =(\"Loyalty Number\", \"count\"), Active = (\"is_royal\", \"sum\")).reset_index()\n"
   ]
  },
  {
   "cell_type": "code",
   "execution_count": 31,
   "id": "fb9411b2",
   "metadata": {},
   "outputs": [
    {
     "name": "stderr",
     "output_type": "stream",
     "text": [
      "c:\\Users\\somph\\anaconda3\\Lib\\site-packages\\seaborn\\_oldcore.py:1119: FutureWarning: use_inf_as_na option is deprecated and will be removed in a future version. Convert inf values to NaN before operating instead.\n",
      "  with pd.option_context('mode.use_inf_as_na', True):\n",
      "c:\\Users\\somph\\anaconda3\\Lib\\site-packages\\seaborn\\_oldcore.py:1119: FutureWarning: use_inf_as_na option is deprecated and will be removed in a future version. Convert inf values to NaN before operating instead.\n",
      "  with pd.option_context('mode.use_inf_as_na', True):\n"
     ]
    },
    {
     "data": {
      "image/png": "[encoded data removed]",
      "text/plain": [
       "<Figure size 1200x600 with 1 Axes>"
      ]
     },
     "metadata": {},
     "output_type": "display_data"
    }
   ],
   "source": [
    "Loyalty[\"Retention Rate\"] = Loyalty[\"Active\"] / Loyalty[\"Signups\"]\n",
    "Loyalty[\"Year-Month\"] = pd.to_datetime(Loyalty[\"Enrollment Year\"].astype(str) + \"-\" + Loyalty[\"Enrollment Month\"].astype(str).str.zfill(2))\n",
    "Loyalty = Loyalty.sort_values(\"Year-Month\")\n",
    "\n",
    "plt.figure(figsize=(12, 6))\n",
    "sns.lineplot(data=Loyalty, x=\"Year-Month\", y=\"Retention Rate\", marker=\"o\")\n",
    "plt.xticks(rotation=45)\n",
    "plt.gca().xaxis.set_major_locator(mdates.YearLocator())  \n",
    "plt.gca().xaxis.set_major_formatter(mdates.DateFormatter(\"%Y\"))\n",
    "plt.axvline(pd.to_datetime(\"2018-02\"), color='red', linestyle=\"--\", label=\"Promotion Start and End date\")\n",
    "plt.axvline(pd.to_datetime(\"2018-04\"), color='red', linestyle=\"--\")\n",
    "plt.xlabel(\"Year\")\n",
    "plt.ylabel(\"Retention Rate (%)\")\n",
    "plt.title(\"Customer Retention Rate Over Time (By Month)\")\n",
    "plt.legend()\n",
    "plt.show()\n"
   ]
  }
 ],
 "metadata": {
  "kernelspec": {
   "display_name": "base",
   "language": "python",
   "name": "python3"
  },
  "language_info": {
   "codemirror_mode": {
    "name": "ipython",
    "version": 3
   },
   "file_extension": ".py",
   "mimetype": "text/x-python",
   "name": "python",
   "nbconvert_exporter": "python",
   "pygments_lexer": "ipython3",
   "version": "3.11.7"
  }
 },
 "nbformat": 4,
 "nbformat_minor": 5
}
